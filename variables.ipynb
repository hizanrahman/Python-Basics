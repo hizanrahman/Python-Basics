{
 "cells": [
  {
   "cell_type": "markdown",
   "id": "a69f9b9d",
   "metadata": {},
   "source": [
    "## Rules for naming the variables"
   ]
  },
  {
   "cell_type": "code",
   "execution_count": 2,
   "id": "2527357a",
   "metadata": {},
   "outputs": [
    {
     "data": {
      "text/plain": [
       "('apple', 'Orange')"
      ]
     },
     "execution_count": 2,
     "metadata": {},
     "output_type": "execute_result"
    }
   ],
   "source": [
    "fruits=\"apple\",\"Orange\"\n",
    "fruits"
   ]
  },
  {
   "cell_type": "code",
   "execution_count": null,
   "id": "ef7f9a4d",
   "metadata": {},
   "outputs": [],
   "source": [
    "### variable name should not start with a number \n",
    "### variable name does not allow special charcters except underscore(_)\n",
    "### variable name should not contain spaces\n",
    "### variable name can start with A-Z,a-z,...\n",
    "### varaiable name is case-sensitive"
   ]
  },
  {
   "cell_type": "code",
   "execution_count": 3,
   "id": "14e7a8f5",
   "metadata": {},
   "outputs": [
    {
     "ename": "SyntaxError",
     "evalue": "invalid syntax (2232672103.py, line 1)",
     "output_type": "error",
     "traceback": [
      "\u001b[1;36m  File \u001b[1;32m\"C:\\Users\\Dell\\AppData\\Local\\Temp\\ipykernel_7792\\2232672103.py\"\u001b[1;36m, line \u001b[1;32m1\u001b[0m\n\u001b[1;33m    3fruits=\"guava\",\"grapes\"\u001b[0m\n\u001b[1;37m     ^\u001b[0m\n\u001b[1;31mSyntaxError\u001b[0m\u001b[1;31m:\u001b[0m invalid syntax\n"
     ]
    }
   ],
   "source": [
    "3fruits=\"guava\",\"grapes\"\n",
    "3fruits\n"
   ]
  },
  {
   "cell_type": "code",
   "execution_count": 4,
   "id": "fd7c1c51",
   "metadata": {},
   "outputs": [
    {
     "ename": "SyntaxError",
     "evalue": "cannot assign to operator (167758696.py, line 1)",
     "output_type": "error",
     "traceback": [
      "\u001b[1;36m  File \u001b[1;32m\"C:\\Users\\Dell\\AppData\\Local\\Temp\\ipykernel_7792\\167758696.py\"\u001b[1;36m, line \u001b[1;32m1\u001b[0m\n\u001b[1;33m    fruit-names=\"apple\",\"orange\"\u001b[0m\n\u001b[1;37m    ^\u001b[0m\n\u001b[1;31mSyntaxError\u001b[0m\u001b[1;31m:\u001b[0m cannot assign to operator\n"
     ]
    }
   ],
   "source": [
    "fruit-names=\"apple\",\"orange\"\n",
    "fruit-names\n"
   ]
  },
  {
   "cell_type": "code",
   "execution_count": 5,
   "id": "82258411",
   "metadata": {},
   "outputs": [
    {
     "ename": "SyntaxError",
     "evalue": "invalid syntax (667627496.py, line 1)",
     "output_type": "error",
     "traceback": [
      "\u001b[1;36m  File \u001b[1;32m\"C:\\Users\\Dell\\AppData\\Local\\Temp\\ipykernel_7792\\667627496.py\"\u001b[1;36m, line \u001b[1;32m1\u001b[0m\n\u001b[1;33m    fruit items=\"apple\"\u001b[0m\n\u001b[1;37m          ^\u001b[0m\n\u001b[1;31mSyntaxError\u001b[0m\u001b[1;31m:\u001b[0m invalid syntax\n"
     ]
    }
   ],
   "source": [
    "fruit items=\"apple\"\n"
   ]
  },
  {
   "cell_type": "code",
   "execution_count": 13,
   "id": "31f356b9",
   "metadata": {},
   "outputs": [
    {
     "data": {
      "text/plain": [
       "('mango', 'pappaya')"
      ]
     },
     "execution_count": 13,
     "metadata": {},
     "output_type": "execute_result"
    }
   ],
   "source": [
    "Fruits=\"orange\",\"mango\"\n",
    "Fruits"
   ]
  },
  {
   "cell_type": "code",
   "execution_count": 14,
   "id": "c7a5d635",
   "metadata": {},
   "outputs": [
    {
     "ename": "NameError",
     "evalue": "name 'Fruit' is not defined",
     "output_type": "error",
     "traceback": [
      "\u001b[1;31m---------------------------------------------------------------------------\u001b[0m",
      "\u001b[1;31mNameError\u001b[0m                                 Traceback (most recent call last)",
      "\u001b[1;32m~\\AppData\\Local\\Temp\\ipykernel_7792\\20448649.py\u001b[0m in \u001b[0;36m<module>\u001b[1;34m\u001b[0m\n\u001b[0;32m      1\u001b[0m \u001b[0mfruit\u001b[0m \u001b[1;33m=\u001b[0m \u001b[1;34m\"mango\"\u001b[0m\u001b[1;33m,\u001b[0m\u001b[1;34m\"pappaya\"\u001b[0m\u001b[1;33m\u001b[0m\u001b[1;33m\u001b[0m\u001b[0m\n\u001b[1;32m----> 2\u001b[1;33m \u001b[0mFruit\u001b[0m\u001b[1;33m\u001b[0m\u001b[1;33m\u001b[0m\u001b[0m\n\u001b[0m",
      "\u001b[1;31mNameError\u001b[0m: name 'Fruit' is not defined"
     ]
    }
   ],
   "source": [
    "fruit = \"mango\",\"pappaya\"\n",
    "Fruit \n"
   ]
  },
  {
   "cell_type": "code",
   "execution_count": null,
   "id": "9640fe8f",
   "metadata": {},
   "outputs": [],
   "source": []
  }
 ],
 "metadata": {
  "kernelspec": {
   "display_name": "Python 3 (ipykernel)",
   "language": "python",
   "name": "python3"
  },
  "language_info": {
   "codemirror_mode": {
    "name": "ipython",
    "version": 3
   },
   "file_extension": ".py",
   "mimetype": "text/x-python",
   "name": "python",
   "nbconvert_exporter": "python",
   "pygments_lexer": "ipython3",
   "version": "3.9.13"
  }
 },
 "nbformat": 4,
 "nbformat_minor": 5
}
